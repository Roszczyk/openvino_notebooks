{
 "cells": [
  {
   "cell_type": "markdown",
   "metadata": {},
   "source": [
    "# Keras to OpenVINO"
   ]
  },
  {
   "cell_type": "code",
   "execution_count": 13,
   "metadata": {},
   "outputs": [
    {
     "name": "stdout",
     "output_type": "stream",
     "text": [
      "Note: you may need to restart the kernel to use updated packages.\n"
     ]
    },
    {
     "name": "stderr",
     "output_type": "stream",
     "text": [
      "\n",
      "[notice] A new release of pip is available: 23.2.1 -> 24.0\n",
      "[notice] To update, run: python.exe -m pip install --upgrade pip\n"
     ]
    }
   ],
   "source": [
    "%pip install -q \"openvino>=2023.1.0\" tensorflow keras-cv tqdm pillow"
   ]
  },
  {
   "cell_type": "code",
   "execution_count": 1,
   "metadata": {},
   "outputs": [],
   "source": [
    "import tensorflow as tf\n",
    "import openvino as ov\n",
    "import time\n",
    "import warnings\n",
    "import tarfile \n",
    "from pathlib import Path\n",
    "import os"
   ]
  },
  {
   "cell_type": "code",
   "execution_count": 2,
   "metadata": {},
   "outputs": [],
   "source": [
    "# Fetch `notebook_utils` module\n",
    "import urllib.request\n",
    "urllib.request.urlretrieve(\n",
    "    url='https://raw.githubusercontent.com/openvinotoolkit/openvino_notebooks/main/notebooks/utils/notebook_utils.py',\n",
    "    filename='notebook_utils.py'\n",
    ")\n",
    "from notebook_utils import download_file"
   ]
  },
  {
   "cell_type": "code",
   "execution_count": 3,
   "metadata": {},
   "outputs": [],
   "source": [
    "IMAGE_WIDTH = 150\n",
    "IMAGE_HEIGHT = 150\n",
    "DIRECTORY_NAME = \"model\"\n",
    "KERAS_MODEL_BASE = DIRECTORY_NAME + \"/keras_classification\"\n",
    "KERAS_MODEL_PATH = Path(KERAS_MODEL_BASE + \"_model.h5\")\n",
    "KERAS_ZIP_PATH = Path(KERAS_MODEL_BASE + \".tar.gz\")"
   ]
  },
  {
   "cell_type": "markdown",
   "metadata": {},
   "source": [
    "### Loading Keras model"
   ]
  },
  {
   "cell_type": "code",
   "execution_count": 4,
   "metadata": {},
   "outputs": [
    {
     "data": {
      "application/vnd.jupyter.widget-view+json": {
       "model_id": "67a3a5894d1f4ba89882c9c0a3c19948",
       "version_major": 2,
       "version_minor": 0
      },
      "text/plain": [
       "model\\keras_classification.tar.gz:   0%|          | 0.00/90.9M [00:00<?, ?B/s]"
      ]
     },
     "metadata": {},
     "output_type": "display_data"
    }
   ],
   "source": [
    "download_file(\"https://www.kaggle.com/api/v1/models/keras/resnetv2/keras/resnet50_v2_imagenet_classifier/2/download\", filename=KERAS_ZIP_PATH.name, directory=KERAS_ZIP_PATH.parent)\n",
    "zip_file = tarfile.open(KERAS_ZIP_PATH)\n",
    "zip_file.extractall(KERAS_MODEL_BASE) \n",
    "zip_file.close()\n",
    "os.remove(KERAS_ZIP_PATH)"
   ]
  },
  {
   "cell_type": "code",
   "execution_count": 5,
   "metadata": {},
   "outputs": [],
   "source": [
    "KERAS_MODEL_PATH = Path(KERAS_MODEL_BASE + \"/model.weights.h5\")\n",
    "KERAS_MODEL_CONFIG = Path(KERAS_MODEL_BASE + \"/config.json\")"
   ]
  },
  {
   "cell_type": "code",
   "execution_count": 6,
   "metadata": {},
   "outputs": [],
   "source": [
    "import numpy as np\n",
    "from keras.models import Sequential, model_from_json\n",
    "import json"
   ]
  },
  {
   "cell_type": "code",
   "execution_count": 7,
   "metadata": {},
   "outputs": [],
   "source": [
    "with open(KERAS_MODEL_CONFIG, 'r') as json_file:\n",
    "    config = json.load(json_file)\n",
    "keras_model = model_from_json(json.dumps(config))\n",
    "keras_model.load_weights(KERAS_MODEL_PATH)"
   ]
  },
  {
   "cell_type": "code",
   "execution_count": 40,
   "metadata": {},
   "outputs": [],
   "source": [
    "def predict(model,file):\n",
    "    x = tf.keras.preprocessing.image.load_img(file, target_size=(IMAGE_WIDTH,IMAGE_HEIGHT))\n",
    "    x = tf.keras.preprocessing.image.img_to_array(x)\n",
    "    x = np.expand_dims(x, axis=0)\n",
    "    array = model.predict(x)\n",
    "    # print(\"ARRAY: \", array)\n",
    "    result = array[0]\n",
    "    answer = np.argmax(result)\n",
    "    # print(\"RESULT: \", result)\n",
    "    if answer in range(236, 250):\n",
    "        classify = 'dog'\n",
    "    elif answer in range(280, 295):\n",
    "        classify = 'cat'\n",
    "    else:\n",
    "        classify = 'else'\n",
    "    print(\"ANSWER: \", answer, classify, Path(file).stem)"
   ]
  },
  {
   "cell_type": "code",
   "execution_count": 42,
   "metadata": {},
   "outputs": [
    {
     "name": "stdout",
     "output_type": "stream",
     "text": [
      "\u001b[1m1/1\u001b[0m \u001b[32m━━━━━━━━━━━━━━━━━━━━\u001b[0m\u001b[37m\u001b[0m \u001b[1m0s\u001b[0m 91ms/step\n",
      "ANSWER:  246 dog dog1\n",
      "\u001b[1m1/1\u001b[0m \u001b[32m━━━━━━━━━━━━━━━━━━━━\u001b[0m\u001b[37m\u001b[0m \u001b[1m0s\u001b[0m 114ms/step\n",
      "ANSWER:  282 cat cat1\n",
      "\u001b[1m1/1\u001b[0m \u001b[32m━━━━━━━━━━━━━━━━━━━━\u001b[0m\u001b[37m\u001b[0m \u001b[1m0s\u001b[0m 85ms/step\n",
      "ANSWER:  331 else non1\n",
      "\u001b[1m1/1\u001b[0m \u001b[32m━━━━━━━━━━━━━━━━━━━━\u001b[0m\u001b[37m\u001b[0m \u001b[1m0s\u001b[0m 70ms/step\n",
      "ANSWER:  246 dog dog2\n",
      "\u001b[1m1/1\u001b[0m \u001b[32m━━━━━━━━━━━━━━━━━━━━\u001b[0m\u001b[37m\u001b[0m \u001b[1m0s\u001b[0m 75ms/step\n",
      "ANSWER:  282 cat cat2\n",
      "\u001b[1m1/1\u001b[0m \u001b[32m━━━━━━━━━━━━━━━━━━━━\u001b[0m\u001b[37m\u001b[0m \u001b[1m0s\u001b[0m 75ms/step\n",
      "ANSWER:  444 else non2\n",
      "\u001b[1m1/1\u001b[0m \u001b[32m━━━━━━━━━━━━━━━━━━━━\u001b[0m\u001b[37m\u001b[0m \u001b[1m0s\u001b[0m 73ms/step\n",
      "ANSWER:  240 dog dog3\n",
      "\u001b[1m1/1\u001b[0m \u001b[32m━━━━━━━━━━━━━━━━━━━━\u001b[0m\u001b[37m\u001b[0m \u001b[1m0s\u001b[0m 62ms/step\n",
      "ANSWER:  285 cat cat3\n",
      "\u001b[1m1/1\u001b[0m \u001b[32m━━━━━━━━━━━━━━━━━━━━\u001b[0m\u001b[37m\u001b[0m \u001b[1m0s\u001b[0m 64ms/step\n",
      "ANSWER:  644 else non3\n",
      "\u001b[1m1/1\u001b[0m \u001b[32m━━━━━━━━━━━━━━━━━━━━\u001b[0m\u001b[37m\u001b[0m \u001b[1m0s\u001b[0m 90ms/step\n",
      "ANSWER:  246 dog dog4\n",
      "\u001b[1m1/1\u001b[0m \u001b[32m━━━━━━━━━━━━━━━━━━━━\u001b[0m\u001b[37m\u001b[0m \u001b[1m0s\u001b[0m 69ms/step\n",
      "ANSWER:  187 else york\n",
      "\u001b[1m1/1\u001b[0m \u001b[32m━━━━━━━━━━━━━━━━━━━━\u001b[0m\u001b[37m\u001b[0m \u001b[1m0s\u001b[0m 66ms/step\n",
      "ANSWER:  151 else chihuahua\n",
      "\u001b[1m1/1\u001b[0m \u001b[32m━━━━━━━━━━━━━━━━━━━━\u001b[0m\u001b[37m\u001b[0m \u001b[1m0s\u001b[0m 71ms/step\n",
      "ANSWER:  291 cat lio\n",
      "\u001b[1m1/1\u001b[0m \u001b[32m━━━━━━━━━━━━━━━━━━━━\u001b[0m\u001b[37m\u001b[0m \u001b[1m0s\u001b[0m 72ms/step\n",
      "ANSWER:  272 else wolf\n",
      "\u001b[1m1/1\u001b[0m \u001b[32m━━━━━━━━━━━━━━━━━━━━\u001b[0m\u001b[37m\u001b[0m \u001b[1m0s\u001b[0m 76ms/step\n",
      "ANSWER:  178 else weimar\n",
      "\u001b[1m1/1\u001b[0m \u001b[32m━━━━━━━━━━━━━━━━━━━━\u001b[0m\u001b[37m\u001b[0m \u001b[1m0s\u001b[0m 100ms/step\n",
      "ANSWER:  180 else buldog\n"
     ]
    }
   ],
   "source": [
    "for i in range(1,4):\n",
    "    name = f\"dog{i}.jpg\"\n",
    "    result = predict(keras_model, name)\n",
    "    name = f\"cat{i}.jpg\"\n",
    "    result = predict(keras_model, name)\n",
    "    name = f\"non{i}.jpg\"\n",
    "    result = predict(keras_model, name)\n",
    "    \n",
    "predict(keras_model, \"dog4.jpg\")\n",
    "predict(keras_model, \"york.jpg\")\n",
    "predict(keras_model, \"chihuahua.jpg\")\n",
    "predict(keras_model, \"lio.jpg\")\n",
    "predict(keras_model, \"wolf.jpg\")\n",
    "predict(keras_model, \"weimar.jpg\")\n",
    "predict(keras_model, \"buldog.jpg\")"
   ]
  },
  {
   "cell_type": "markdown",
   "metadata": {},
   "source": [
    "### Converting Keras model to TensorFlow Saved Model"
   ]
  },
  {
   "cell_type": "code",
   "execution_count": 9,
   "metadata": {},
   "outputs": [
    {
     "name": "stdout",
     "output_type": "stream",
     "text": [
      "INFO:tensorflow:Assets written to: model\\tf_saved_model\\assets\n"
     ]
    },
    {
     "name": "stderr",
     "output_type": "stream",
     "text": [
      "INFO:tensorflow:Assets written to: model\\tf_saved_model\\assets\n"
     ]
    },
    {
     "name": "stdout",
     "output_type": "stream",
     "text": [
      "Model TensorFlow saved at model\\tf_saved_model\n"
     ]
    }
   ],
   "source": [
    "TENSORFLOW_SAVEDMODEL_PATH = Path(DIRECTORY_NAME + \"/tf_saved_model\")\n",
    "tf.saved_model.save(keras_model, TENSORFLOW_SAVEDMODEL_PATH)\n",
    "print(f\"Model TensorFlow saved at {TENSORFLOW_SAVEDMODEL_PATH}\")"
   ]
  },
  {
   "cell_type": "markdown",
   "metadata": {},
   "source": [
    "### Converting TensorFlow to OpenVINO"
   ]
  },
  {
   "cell_type": "code",
   "execution_count": 20,
   "metadata": {},
   "outputs": [],
   "source": [
    "OPENVINO_MODEL_PATH = Path(DIRECTORY_NAME + \"/openvino_model\" + \"/model.xml\")"
   ]
  },
  {
   "cell_type": "code",
   "execution_count": 23,
   "metadata": {},
   "outputs": [
    {
     "name": "stdout",
     "output_type": "stream",
     "text": [
      "model\\openvino_model\\model.xml\n"
     ]
    }
   ],
   "source": [
    "print(OPENVINO_MODEL_PATH)"
   ]
  },
  {
   "cell_type": "code",
   "execution_count": 31,
   "metadata": {},
   "outputs": [],
   "source": [
    "input_shape = tuple(-1 if x is None else x for x in keras_model.input.shape)"
   ]
  },
  {
   "cell_type": "code",
   "execution_count": 33,
   "metadata": {},
   "outputs": [
    {
     "data": {
      "text/plain": [
       "WindowsPath('model/tf_saved_model')"
      ]
     },
     "execution_count": 33,
     "metadata": {},
     "output_type": "execute_result"
    }
   ],
   "source": [
    "TENSORFLOW_SAVEDMODEL_PATH"
   ]
  },
  {
   "cell_type": "code",
   "execution_count": 32,
   "metadata": {},
   "outputs": [
    {
     "ename": "OpConversionFailure",
     "evalue": "Check 'is_conversion_successful' failed at src\\frontends\\tensorflow\\src\\frontend.cpp:480:\nFrontEnd API failed with OpConversionFailure:\n[TensorFlow Frontend] Internal error, conversion is failed for VarHandleOp operation with a message:\nCheck 'result' failed at src\\frontends\\tensorflow\\src\\op\\var_handle.cpp:99:\nFrontEnd API failed with OpValidationFailureWhile validating node 'VarHandleOp':\n[TensorFlow Frontend] Internal error: Cannot find requested variable.\n\n\n",
     "output_type": "error",
     "traceback": [
      "\u001b[1;31m---------------------------------------------------------------------------\u001b[0m",
      "\u001b[1;31mOpConversionFailure\u001b[0m                       Traceback (most recent call last)",
      "Cell \u001b[1;32mIn[32], line 1\u001b[0m\n\u001b[1;32m----> 1\u001b[0m ov_model \u001b[38;5;241m=\u001b[39m \u001b[43mov\u001b[49m\u001b[38;5;241;43m.\u001b[39;49m\u001b[43mconvert_model\u001b[49m\u001b[43m(\u001b[49m\u001b[43mTENSORFLOW_SAVEDMODEL_PATH\u001b[49m\u001b[43m,\u001b[49m\u001b[43m \u001b[49m\u001b[38;5;28;43minput\u001b[39;49m\u001b[43m \u001b[49m\u001b[38;5;241;43m=\u001b[39;49m\u001b[43m \u001b[49m\u001b[43minput_shape\u001b[49m\u001b[43m)\u001b[49m\n\u001b[0;32m      2\u001b[0m ov\u001b[38;5;241m.\u001b[39msave_model(ov_model, OPENVINO_MODEL_PATH)\n\u001b[0;32m      3\u001b[0m \u001b[38;5;28mprint\u001b[39m(\u001b[38;5;124mf\u001b[39m\u001b[38;5;124m\"\u001b[39m\u001b[38;5;124mModel OpenVINO saved at \u001b[39m\u001b[38;5;132;01m{\u001b[39;00mOPENVINO_MODEL_PATH\u001b[38;5;132;01m}\u001b[39;00m\u001b[38;5;124m\"\u001b[39m)\n",
      "File \u001b[1;32mc:\\Users\\mikolajr\\OneDrive - Intel Corporation\\Desktop\\ov\\keras_env\\Lib\\site-packages\\openvino\\tools\\ovc\\convert.py:100\u001b[0m, in \u001b[0;36mconvert_model\u001b[1;34m(input_model, input, output, example_input, extension, verbose, share_weights)\u001b[0m\n\u001b[0;32m     98\u001b[0m logger_state \u001b[38;5;241m=\u001b[39m get_logger_state()\n\u001b[0;32m     99\u001b[0m cli_parser \u001b[38;5;241m=\u001b[39m get_all_cli_parser()\n\u001b[1;32m--> 100\u001b[0m ov_model, _ \u001b[38;5;241m=\u001b[39m \u001b[43m_convert\u001b[49m\u001b[43m(\u001b[49m\u001b[43mcli_parser\u001b[49m\u001b[43m,\u001b[49m\u001b[43m \u001b[49m\u001b[43mparams\u001b[49m\u001b[43m,\u001b[49m\u001b[43m \u001b[49m\u001b[38;5;28;43;01mTrue\u001b[39;49;00m\u001b[43m)\u001b[49m\n\u001b[0;32m    101\u001b[0m restore_logger_state(logger_state)\n\u001b[0;32m    102\u001b[0m \u001b[38;5;28;01mreturn\u001b[39;00m ov_model\n",
      "File \u001b[1;32mc:\\Users\\mikolajr\\OneDrive - Intel Corporation\\Desktop\\ov\\keras_env\\Lib\\site-packages\\openvino\\tools\\ovc\\convert_impl.py:547\u001b[0m, in \u001b[0;36m_convert\u001b[1;34m(cli_parser, args, python_api_used)\u001b[0m\n\u001b[0;32m    545\u001b[0m send_conversion_result(\u001b[38;5;124m'\u001b[39m\u001b[38;5;124mfail\u001b[39m\u001b[38;5;124m'\u001b[39m)\n\u001b[0;32m    546\u001b[0m \u001b[38;5;28;01mif\u001b[39;00m python_api_used:\n\u001b[1;32m--> 547\u001b[0m     \u001b[38;5;28;01mraise\u001b[39;00m e\n\u001b[0;32m    548\u001b[0m \u001b[38;5;28;01melse\u001b[39;00m:\n\u001b[0;32m    549\u001b[0m     \u001b[38;5;28;01mreturn\u001b[39;00m \u001b[38;5;28;01mNone\u001b[39;00m, argv\n",
      "File \u001b[1;32mc:\\Users\\mikolajr\\OneDrive - Intel Corporation\\Desktop\\ov\\keras_env\\Lib\\site-packages\\openvino\\tools\\ovc\\convert_impl.py:489\u001b[0m, in \u001b[0;36m_convert\u001b[1;34m(cli_parser, args, python_api_used)\u001b[0m\n\u001b[0;32m    485\u001b[0m argv\u001b[38;5;241m.\u001b[39mis_python_api_used \u001b[38;5;241m=\u001b[39m python_api_used\n\u001b[0;32m    487\u001b[0m argv\u001b[38;5;241m.\u001b[39mframework \u001b[38;5;241m=\u001b[39m model_framework\n\u001b[1;32m--> 489\u001b[0m ov_model \u001b[38;5;241m=\u001b[39m \u001b[43mdriver\u001b[49m\u001b[43m(\u001b[49m\u001b[43margv\u001b[49m\u001b[43m,\u001b[49m\u001b[43m \u001b[49m\u001b[43m{\u001b[49m\u001b[38;5;124;43m\"\u001b[39;49m\u001b[38;5;124;43mconversion_parameters\u001b[39;49m\u001b[38;5;124;43m\"\u001b[39;49m\u001b[43m:\u001b[49m\u001b[43m \u001b[49m\u001b[43mnon_default_params\u001b[49m\u001b[43m}\u001b[49m\u001b[43m)\u001b[49m\n\u001b[0;32m    491\u001b[0m \u001b[38;5;28;01mif\u001b[39;00m inp_model_is_object \u001b[38;5;129;01mand\u001b[39;00m model_framework \u001b[38;5;241m==\u001b[39m \u001b[38;5;124m\"\u001b[39m\u001b[38;5;124mpaddle\u001b[39m\u001b[38;5;124m\"\u001b[39m:\n\u001b[0;32m    492\u001b[0m     \u001b[38;5;28;01mif\u001b[39;00m paddle_runtime_converter:\n",
      "File \u001b[1;32mc:\\Users\\mikolajr\\OneDrive - Intel Corporation\\Desktop\\ov\\keras_env\\Lib\\site-packages\\openvino\\tools\\ovc\\convert_impl.py:240\u001b[0m, in \u001b[0;36mdriver\u001b[1;34m(argv, non_default_params)\u001b[0m\n\u001b[0;32m    237\u001b[0m \u001b[38;5;66;03m# Log dictionary with non-default cli parameters where complex classes are excluded.\u001b[39;00m\n\u001b[0;32m    238\u001b[0m log\u001b[38;5;241m.\u001b[39mdebug(\u001b[38;5;28mstr\u001b[39m(non_default_params))\n\u001b[1;32m--> 240\u001b[0m ov_model \u001b[38;5;241m=\u001b[39m moc_emit_ir(\u001b[43mprepare_ir\u001b[49m\u001b[43m(\u001b[49m\u001b[43margv\u001b[49m\u001b[43m)\u001b[49m, argv)\n\u001b[0;32m    242\u001b[0m \u001b[38;5;28;01mreturn\u001b[39;00m ov_model\n",
      "File \u001b[1;32mc:\\Users\\mikolajr\\OneDrive - Intel Corporation\\Desktop\\ov\\keras_env\\Lib\\site-packages\\openvino\\tools\\ovc\\convert_impl.py:189\u001b[0m, in \u001b[0;36mprepare_ir\u001b[1;34m(argv)\u001b[0m\n\u001b[0;32m    187\u001b[0m         \u001b[38;5;28;01mfor\u001b[39;00m extension \u001b[38;5;129;01min\u001b[39;00m filtered_extensions(argv\u001b[38;5;241m.\u001b[39mextension):\n\u001b[0;32m    188\u001b[0m             moc_front_end\u001b[38;5;241m.\u001b[39madd_extension(extension)\n\u001b[1;32m--> 189\u001b[0m     ov_model \u001b[38;5;241m=\u001b[39m \u001b[43mmoc_pipeline\u001b[49m\u001b[43m(\u001b[49m\u001b[43margv\u001b[49m\u001b[43m,\u001b[49m\u001b[43m \u001b[49m\u001b[43mmoc_front_end\u001b[49m\u001b[43m)\u001b[49m\n\u001b[0;32m    190\u001b[0m     \u001b[38;5;28;01mreturn\u001b[39;00m ov_model\n\u001b[0;32m    192\u001b[0m \u001b[38;5;28;01mif\u001b[39;00m \u001b[38;5;129;01mnot\u001b[39;00m argv\u001b[38;5;241m.\u001b[39minput_model:\n",
      "File \u001b[1;32mc:\\Users\\mikolajr\\OneDrive - Intel Corporation\\Desktop\\ov\\keras_env\\Lib\\site-packages\\openvino\\tools\\ovc\\moc_frontend\\pipeline.py:244\u001b[0m, in \u001b[0;36mmoc_pipeline\u001b[1;34m(argv, moc_front_end)\u001b[0m\n\u001b[0;32m    241\u001b[0m \u001b[38;5;28;01mdef\u001b[39;00m \u001b[38;5;21mshape_to_array\u001b[39m(shape: PartialShape):\n\u001b[0;32m    242\u001b[0m     \u001b[38;5;28;01mreturn\u001b[39;00m [shape\u001b[38;5;241m.\u001b[39mget_dimension(i) \u001b[38;5;28;01mfor\u001b[39;00m i \u001b[38;5;129;01min\u001b[39;00m \u001b[38;5;28mrange\u001b[39m(shape\u001b[38;5;241m.\u001b[39mrank\u001b[38;5;241m.\u001b[39mget_length())]\n\u001b[1;32m--> 244\u001b[0m ov_model \u001b[38;5;241m=\u001b[39m \u001b[43mmoc_front_end\u001b[49m\u001b[38;5;241;43m.\u001b[39;49m\u001b[43mconvert\u001b[49m\u001b[43m(\u001b[49m\u001b[43minput_model\u001b[49m\u001b[43m)\u001b[49m\n\u001b[0;32m    246\u001b[0m \u001b[38;5;28;01mreturn\u001b[39;00m ov_model\n",
      "File \u001b[1;32mc:\\Users\\mikolajr\\OneDrive - Intel Corporation\\Desktop\\ov\\keras_env\\Lib\\site-packages\\openvino\\frontend\\frontend.py:18\u001b[0m, in \u001b[0;36mFrontEnd.convert\u001b[1;34m(self, model)\u001b[0m\n\u001b[0;32m     17\u001b[0m \u001b[38;5;28;01mdef\u001b[39;00m \u001b[38;5;21mconvert\u001b[39m(\u001b[38;5;28mself\u001b[39m, model: Union[Model, InputModel]) \u001b[38;5;241m-\u001b[39m\u001b[38;5;241m>\u001b[39m Model:\n\u001b[1;32m---> 18\u001b[0m     converted_model \u001b[38;5;241m=\u001b[39m \u001b[38;5;28;43msuper\u001b[39;49m\u001b[43m(\u001b[49m\u001b[43m)\u001b[49m\u001b[38;5;241;43m.\u001b[39;49m\u001b[43mconvert\u001b[49m\u001b[43m(\u001b[49m\u001b[43mmodel\u001b[49m\u001b[43m)\u001b[49m\n\u001b[0;32m     19\u001b[0m     \u001b[38;5;28;01mif\u001b[39;00m \u001b[38;5;28misinstance\u001b[39m(model, InputModel):\n\u001b[0;32m     20\u001b[0m         \u001b[38;5;28;01mreturn\u001b[39;00m Model(converted_model)\n",
      "\u001b[1;31mOpConversionFailure\u001b[0m: Check 'is_conversion_successful' failed at src\\frontends\\tensorflow\\src\\frontend.cpp:480:\nFrontEnd API failed with OpConversionFailure:\n[TensorFlow Frontend] Internal error, conversion is failed for VarHandleOp operation with a message:\nCheck 'result' failed at src\\frontends\\tensorflow\\src\\op\\var_handle.cpp:99:\nFrontEnd API failed with OpValidationFailureWhile validating node 'VarHandleOp':\n[TensorFlow Frontend] Internal error: Cannot find requested variable.\n\n\n"
     ]
    }
   ],
   "source": [
    "ov_model = ov.convert_model(TENSORFLOW_SAVEDMODEL_PATH, input = input_shape)\n",
    "ov.save_model(ov_model, OPENVINO_MODEL_PATH)\n",
    "print(f\"Model OpenVINO saved at {OPENVINO_MODEL_PATH}\")"
   ]
  },
  {
   "cell_type": "code",
   "execution_count": null,
   "metadata": {},
   "outputs": [],
   "source": []
  }
 ],
 "metadata": {
  "kernelspec": {
   "display_name": "openvino_env",
   "language": "python",
   "name": "python3"
  },
  "language_info": {
   "codemirror_mode": {
    "name": "ipython",
    "version": 3
   },
   "file_extension": ".py",
   "mimetype": "text/x-python",
   "name": "python",
   "nbconvert_exporter": "python",
   "pygments_lexer": "ipython3",
   "version": "3.11.5"
  }
 },
 "nbformat": 4,
 "nbformat_minor": 2
}
